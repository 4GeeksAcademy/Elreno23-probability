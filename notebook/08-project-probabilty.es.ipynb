{
 "cells": [
  {
   "cell_type": "markdown",
   "id": "a41f3622",
   "metadata": {},
   "source": [
    "# Ejercicios de probabilidad"
   ]
  },
  {
   "cell_type": "code",
   "execution_count": 439,
   "id": "a327a73d690229d3",
   "metadata": {},
   "outputs": [],
   "source": [
    "# Importamos librerias\n",
    "import random\n",
    "import numpy as np"
   ]
  },
  {
   "cell_type": "markdown",
   "id": "a6bdbd89",
   "metadata": {},
   "source": [
    "## Ejercicio 1 \n",
    "\n",
    "Dos dados se lanzan una vez y se observa el total obtenido. Usa una simulación para encontrar la probabilidad estimada de que la puntuación sea mayor a 7 o un número par. Una simulación es una repetición del mismo experimento multiples veces para observar su comportamiento:\n",
    "\n",
    "- Ejecuta el experimento 1000 veces (lanza 2 dados 1000 veces, y suma el número de ambos dados).\n",
    "- Lleva ua cuenta de los números y las veces que la suma fue mayor a 7 o un número par.\n",
    "- Divide el número del paso 2 entre el número de iteraciones(1000).\n",
    "- Escribe tus observaciones o conclusiones"
   ]
  },
  {
   "cell_type": "code",
   "execution_count": null,
   "id": "8939d892",
   "metadata": {},
   "outputs": [
    {
     "data": {
      "text/plain": [
       "(array([False,  True, False,  True,  True, False, False, False, False,\n",
       "         True,  True, False, False, False,  True, False, False,  True,\n",
       "         True, False, False,  True, False, False,  True,  True,  True,\n",
       "         True,  True,  True, False, False,  True,  True, False, False,\n",
       "         True,  True, False,  True, False,  True, False,  True, False,\n",
       "        False, False, False, False, False, False, False, False,  True,\n",
       "        False, False, False, False,  True, False, False,  True,  True,\n",
       "         True, False, False,  True, False,  True,  True, False,  True,\n",
       "        False, False, False, False, False,  True, False,  True, False,\n",
       "        False, False, False, False, False,  True, False,  True, False,\n",
       "         True, False, False,  True, False,  True, False,  True,  True,\n",
       "        False, False,  True,  True, False,  True, False,  True,  True,\n",
       "         True,  True,  True, False,  True, False,  True, False, False,\n",
       "         True, False, False, False, False, False,  True,  True,  True,\n",
       "        False, False, False,  True, False, False, False, False,  True,\n",
       "         True, False, False, False, False, False,  True,  True, False,\n",
       "        False,  True, False, False, False, False, False, False, False,\n",
       "         True,  True, False,  True, False, False, False,  True, False,\n",
       "         True,  True,  True,  True, False,  True, False,  True, False,\n",
       "        False, False, False,  True, False,  True, False,  True,  True,\n",
       "        False,  True,  True, False,  True,  True,  True,  True,  True,\n",
       "        False, False,  True,  True, False,  True,  True, False,  True,\n",
       "         True, False,  True,  True, False,  True, False,  True,  True,\n",
       "        False, False,  True,  True,  True, False, False, False, False,\n",
       "         True, False, False,  True, False, False, False, False, False,\n",
       "        False,  True, False,  True,  True, False, False, False,  True,\n",
       "         True,  True,  True, False,  True, False, False, False,  True,\n",
       "        False,  True, False, False,  True, False, False,  True,  True,\n",
       "         True,  True, False, False, False, False,  True,  True, False,\n",
       "         True,  True,  True, False, False,  True,  True, False,  True,\n",
       "         True,  True,  True, False,  True,  True, False,  True, False,\n",
       "        False, False,  True,  True,  True, False,  True, False, False,\n",
       "        False, False, False, False, False, False,  True,  True,  True,\n",
       "         True,  True, False, False, False,  True, False, False,  True,\n",
       "        False,  True, False,  True, False,  True,  True, False,  True,\n",
       "         True, False,  True,  True, False, False, False, False, False,\n",
       "        False, False, False,  True,  True, False, False,  True, False,\n",
       "        False,  True,  True,  True,  True, False,  True, False, False,\n",
       "        False,  True,  True,  True,  True,  True, False,  True,  True,\n",
       "        False, False, False, False, False,  True,  True,  True, False,\n",
       "         True,  True,  True,  True, False, False,  True, False,  True,\n",
       "        False,  True, False, False, False, False, False, False, False,\n",
       "        False, False, False,  True,  True, False,  True, False, False,\n",
       "         True,  True,  True,  True,  True, False,  True, False, False,\n",
       "        False, False, False, False, False,  True, False, False,  True,\n",
       "        False, False, False, False, False,  True, False,  True,  True,\n",
       "        False,  True, False, False, False, False, False,  True,  True,\n",
       "        False, False, False,  True,  True,  True, False,  True, False,\n",
       "        False,  True, False, False, False,  True, False, False,  True,\n",
       "        False, False, False,  True, False, False, False, False, False,\n",
       "         True, False,  True,  True,  True,  True,  True,  True, False,\n",
       "        False, False,  True,  True,  True,  True,  True,  True, False,\n",
       "        False,  True,  True, False,  True,  True, False,  True, False,\n",
       "        False, False,  True, False, False, False,  True, False,  True,\n",
       "        False,  True,  True,  True,  True, False, False, False,  True,\n",
       "        False, False, False,  True,  True, False,  True,  True, False,\n",
       "         True,  True, False,  True, False, False, False, False, False,\n",
       "        False, False,  True,  True,  True, False,  True,  True, False,\n",
       "         True, False, False, False, False,  True, False, False, False,\n",
       "        False, False,  True, False, False, False, False, False,  True,\n",
       "        False, False,  True, False,  True, False, False,  True,  True,\n",
       "        False, False, False,  True, False, False, False,  True, False,\n",
       "         True,  True,  True, False,  True,  True,  True, False, False,\n",
       "        False, False,  True, False, False, False,  True,  True, False,\n",
       "         True,  True,  True, False,  True, False, False, False,  True,\n",
       "        False,  True,  True,  True, False, False, False,  True, False,\n",
       "        False, False, False, False, False,  True,  True,  True,  True,\n",
       "         True,  True,  True,  True,  True,  True,  True,  True,  True,\n",
       "        False, False,  True,  True, False,  True,  True, False,  True,\n",
       "        False,  True,  True, False,  True, False,  True,  True, False,\n",
       "        False, False,  True, False, False, False, False, False,  True,\n",
       "         True,  True,  True, False,  True, False,  True, False, False,\n",
       "        False,  True, False, False, False, False, False, False, False,\n",
       "        False,  True, False, False,  True, False, False, False, False,\n",
       "        False, False,  True,  True, False, False,  True, False,  True,\n",
       "        False, False, False, False, False, False, False, False, False,\n",
       "         True,  True, False,  True, False, False,  True, False, False,\n",
       "         True, False,  True,  True,  True,  True, False, False, False,\n",
       "        False, False, False, False,  True,  True,  True, False,  True,\n",
       "        False, False, False,  True, False, False, False, False, False,\n",
       "        False, False,  True, False,  True, False,  True, False,  True,\n",
       "        False, False, False, False, False,  True,  True, False, False,\n",
       "        False, False, False, False,  True,  True, False,  True, False,\n",
       "        False, False, False, False, False, False, False, False, False,\n",
       "        False, False,  True, False, False, False, False,  True,  True,\n",
       "         True, False,  True, False,  True, False, False, False, False,\n",
       "        False,  True, False,  True,  True, False, False, False,  True,\n",
       "        False,  True,  True,  True, False,  True, False,  True, False,\n",
       "        False, False, False, False,  True,  True,  True, False, False,\n",
       "         True,  True,  True, False, False, False, False, False, False,\n",
       "         True, False,  True,  True, False,  True, False, False, False,\n",
       "        False, False, False,  True, False,  True, False, False, False,\n",
       "        False,  True,  True,  True, False,  True, False,  True,  True,\n",
       "        False,  True,  True,  True,  True, False, False, False, False,\n",
       "         True, False, False, False,  True, False,  True, False, False,\n",
       "        False,  True, False,  True, False,  True,  True,  True,  True,\n",
       "        False, False, False, False,  True,  True,  True, False, False,\n",
       "         True, False, False,  True,  True, False, False, False, False,\n",
       "         True, False, False, False, False, False,  True, False,  True,\n",
       "        False, False, False, False,  True,  True, False,  True, False,\n",
       "         True, False,  True,  True,  True, False, False, False, False,\n",
       "         True, False,  True,  True, False, False, False,  True,  True,\n",
       "        False, False,  True,  True,  True, False, False,  True,  True,\n",
       "        False, False,  True, False, False, False,  True,  True,  True,\n",
       "         True,  True, False,  True,  True, False,  True,  True,  True,\n",
       "         True,  True, False,  True, False, False, False, False, False,\n",
       "        False,  True,  True,  True, False, False, False,  True, False,\n",
       "        False,  True, False,  True, False, False, False,  True,  True,\n",
       "        False, False,  True,  True, False,  True, False,  True, False,\n",
       "         True,  True, False, False,  True,  True, False, False, False,\n",
       "         True, False, False,  True, False,  True,  True, False, False,\n",
       "        False]),\n",
       " np.int64(427))"
      ]
     },
     "execution_count": 440,
     "metadata": {},
     "output_type": "execute_result"
    }
   ],
   "source": [
    "dice = np.random.randint(1,7, size=(1000,2)) #simulamos 1000 lanzaminetos con dos dados\n",
    "sum_of_sides = np.sum(dice,axis=1) #sumamos las filas(el valor de los dados en cada lanzamiento)\n",
    "condicion =  (sum_of_sides > 7) | (sum_of_sides % 2 == 0)\n",
    "result = np.sum(condicion) #cuantas veces se cumplie la condicion?\n",
    "probability = result / 1000\n",
    "condicion, result\n",
    "\n",
    "#la suma de los lados que son mayores a 7 es de 433\n",
    "#la suma de los lados que son pares es de 528"
   ]
  },
  {
   "cell_type": "markdown",
   "id": "90926d05",
   "metadata": {},
   "source": [
    "### Conclusiones\n",
    "\n",
    "Podemos concluir que hay un 62% aproximadamente de posibilidades de que alguna de las condiciones se cumplan. Otro dato curioso que probé es que hay una mayor probabilidad de que se cumpla la condicion (suma_de_lados % 2 == 0). Un hallazgo adicional interesante fue que la combinacion de sumas para que sea PAR es mayor, especificamente hay 18 combinaciones posibles entre el 2 y el 12, mientras que las combinaciones para que una suma de como resultado mayor que 7 son 15, lo que disminuye ligeramente las posibilidades."
   ]
  },
  {
   "cell_type": "markdown",
   "id": "55732bca",
   "metadata": {},
   "source": [
    "## Ejercicio 2\n",
    "\n",
    "Una caja contiene 10 bolas blancas, 20 bolas rojas y 30 bolas verdes. Si tomamos 5 bolas de la caja reemplazándolas (tomando una bola, anotando el color y luego regresandola a la caja). Queremos saber la probabilidad de:\n",
    "\n",
    "1. Tomar 3 blancas y 2 rojas.\n",
    "2. Toas todas del mismo color.\n",
    "\n",
    "- Ejecuta el experimento 1000 veces y calcula las probabilidades que mencionadas.\n",
    "- Escribe tus observaciones o conclusiones"
   ]
  },
  {
   "cell_type": "code",
   "execution_count": 441,
   "id": "23244d20",
   "metadata": {},
   "outputs": [],
   "source": [
    "ball_box = {}"
   ]
  },
  {
   "cell_type": "code",
   "execution_count": null,
   "id": "3558ebfcce636f98",
   "metadata": {},
   "outputs": [],
   "source": [
    "# Desafío: dict comprehesion para generar en una sola línea.\n",
    "ball_box = {i: \"White\" if i < 10 else \"Red\" if i < 30 else \"Green\" for i in range(60)}"
   ]
  },
  {
   "cell_type": "code",
   "execution_count": 443,
   "id": "614230a4546d75d4",
   "metadata": {},
   "outputs": [
    {
     "data": {
      "text/plain": [
       "{0: 'White',\n",
       " 1: 'White',\n",
       " 2: 'White',\n",
       " 3: 'White',\n",
       " 4: 'White',\n",
       " 5: 'White',\n",
       " 6: 'White',\n",
       " 7: 'White',\n",
       " 8: 'White',\n",
       " 9: 'White',\n",
       " 10: 'Red',\n",
       " 11: 'Red',\n",
       " 12: 'Red',\n",
       " 13: 'Red',\n",
       " 14: 'Red',\n",
       " 15: 'Red',\n",
       " 16: 'Red',\n",
       " 17: 'Red',\n",
       " 18: 'Red',\n",
       " 19: 'Red',\n",
       " 20: 'Red',\n",
       " 21: 'Red',\n",
       " 22: 'Red',\n",
       " 23: 'Red',\n",
       " 24: 'Red',\n",
       " 25: 'Red',\n",
       " 26: 'Red',\n",
       " 27: 'Red',\n",
       " 28: 'Red',\n",
       " 29: 'Red',\n",
       " 30: 'Green',\n",
       " 31: 'Green',\n",
       " 32: 'Green',\n",
       " 33: 'Green',\n",
       " 34: 'Green',\n",
       " 35: 'Green',\n",
       " 36: 'Green',\n",
       " 37: 'Green',\n",
       " 38: 'Green',\n",
       " 39: 'Green',\n",
       " 40: 'Green',\n",
       " 41: 'Green',\n",
       " 42: 'Green',\n",
       " 43: 'Green',\n",
       " 44: 'Green',\n",
       " 45: 'Green',\n",
       " 46: 'Green',\n",
       " 47: 'Green',\n",
       " 48: 'Green',\n",
       " 49: 'Green',\n",
       " 50: 'Green',\n",
       " 51: 'Green',\n",
       " 52: 'Green',\n",
       " 53: 'Green',\n",
       " 54: 'Green',\n",
       " 55: 'Green',\n",
       " 56: 'Green',\n",
       " 57: 'Green',\n",
       " 58: 'Green',\n",
       " 59: 'Green'}"
      ]
     },
     "execution_count": 443,
     "metadata": {},
     "output_type": "execute_result"
    }
   ],
   "source": [
    "# Crea las cajas con las bolas\n",
    "for i in range(60):\n",
    "    if i < 10:\n",
    "        ball_box[i] = \"White\"\n",
    "    elif (i > 9) and (i < 30):\n",
    "        ball_box[i] = \"Red\"\n",
    "    else:\n",
    "        ball_box[i] = \"Green\"\n",
    "\n",
    "ball_box"
   ]
  },
  {
   "cell_type": "code",
   "execution_count": null,
   "id": "5e1198624a36edc1",
   "metadata": {},
   "outputs": [
    {
     "data": {
      "text/plain": [
       "(0.005, 0.032)"
      ]
     },
     "execution_count": 457,
     "metadata": {},
     "output_type": "execute_result"
    }
   ],
   "source": [
    "balls=list(ball_box.values()) #Obtenemos los valores y los almacenamos en una lista\n",
    "white_and_red = 0 #Contadores para las condiciones\n",
    "all = 0\n",
    "'''\n",
    "Simulamos la extraccion de 5 bolas al azar, cabe destacar que no se saca un puñado sino de 1 en 1\n",
    "es imprtante entenderlo para que quede claro de que el conjunto no se reduce, \n",
    "es decir la probablidad no cambia, porque el funcionamiento del replace=True es ese,\n",
    "\"extrae una bola y la vuelve a meter\".\n",
    "'''\n",
    "extraction = np.random.choice(balls, size=(1000,5),replace=True) \n",
    "\n",
    "for row in extraction:\n",
    "        #condicion white_and_red\n",
    "        #Convertimos a listas de python para poder usar count()\n",
    "        if list(row).count(\"White\") == 3 and list(row).count(\"Red\") == 2:\n",
    "            white_and_red += 1\n",
    "\n",
    "        #condicion all\n",
    "        #si todos los valores extraidos son unicos lo contamos\n",
    "        if len(set(row)) == 1:\n",
    "            all += 1\n",
    "\n",
    "probability1 = white_and_red / 1000\n",
    "probability2 = all / 1000\n",
    "probability1,probability2"
   ]
  },
  {
   "cell_type": "markdown",
   "id": "0114a9e1",
   "metadata": {},
   "source": [
    "### Conclusiones\n",
    "\n",
    "En la simulacion podemos observar que es mas probable ontener 5 bolas de un solo color que 3 blancas y 2 rojas. Aunque parece que es mas complicado la condicion  de obtener las 5 de un solo color. La realidad es que hay mas posibilidades ya que tenemos 3 grupos, 10 blancas, 20 rojas y 30 verdes por lo que las probabilidades aumentan en comparacion con la otra condicion que es mucho mas especifica."
   ]
  }
 ],
 "metadata": {
  "kernelspec": {
   "display_name": ".venv (3.13.5)",
   "language": "python",
   "name": "python3"
  },
  "language_info": {
   "codemirror_mode": {
    "name": "ipython",
    "version": 3
   },
   "file_extension": ".py",
   "mimetype": "text/x-python",
   "name": "python",
   "nbconvert_exporter": "python",
   "pygments_lexer": "ipython3",
   "version": "3.13.5"
  }
 },
 "nbformat": 4,
 "nbformat_minor": 5
}
